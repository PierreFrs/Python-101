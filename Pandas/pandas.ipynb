{
 "cells": [
  {
   "cell_type": "markdown",
   "id": "99a91e17",
   "metadata": {},
   "source": [
    "## Pandas\n",
    "\n",
    "Pandas (panel data system) est une bibliothèque Python dédiée à la manipulation et à l'analyse de données. Elel permet de charger des fichiers comme du CSV mais aussi Excel, SQL et HTML"
   ]
  },
  {
   "cell_type": "code",
   "execution_count": 11,
   "id": "d2b93f67",
   "metadata": {},
   "outputs": [],
   "source": [
    "# pip install pandas\n",
    "import pandas as pd"
   ]
  },
  {
   "cell_type": "markdown",
   "id": "31a4acae",
   "metadata": {},
   "source": [
    "### 1. series\n",
    "- C'est une structure de données qui contient un tableau avec un index nominatif."
   ]
  },
  {
   "cell_type": "code",
   "execution_count": 12,
   "id": "67171a25",
   "metadata": {},
   "outputs": [
    {
     "name": "stdout",
     "output_type": "stream",
     "text": [
      "0    1750\n",
      "1    1865\n",
      "2    1984\n",
      "dtype: int64\n",
      "1750\n",
      "USA       1750\n",
      "Canada    1865\n",
      "France    1984\n",
      "dtype: int64\n",
      "1865\n",
      "année la plus grande : 1984\n",
      "5599\n",
      "1865\n"
     ]
    }
   ],
   "source": [
    "annees = [1750, 1865, 1984]\n",
    "\n",
    "serie1 = pd.Series(data=annees)\n",
    "\n",
    "print(serie1)\n",
    "print(serie1[0])\n",
    "\n",
    "pays = [\"USA\", \"Canada\", \"France\"]\n",
    "serie2 = pd.Series(data=annees, index=pays)\n",
    "print(serie2)\n",
    "print(serie2[\"Canada\"])\n",
    "print(\"année la plus grande :\", serie2.max())\n",
    "print(serie2.sum())\n",
    "print(serie2[\"Canada\"])"
   ]
  },
  {
   "cell_type": "markdown",
   "id": "34182537",
   "metadata": {},
   "source": [
    "2. DataFrame\n",
    "\n",
    "- Un DataFrame est un tableau de lignes et de colones dans pandas que nous pouvons filtrer et restructurer\n",
    "- Le dataframe est le principal objet avec lequel nous allons travailler."
   ]
  },
  {
   "cell_type": "code",
   "execution_count": 13,
   "id": "0634c714",
   "metadata": {},
   "outputs": [
    {
     "name": "stdout",
     "output_type": "stream",
     "text": [
      "Produit    Banane\n",
      "Prix          0.6\n",
      "Name: B, dtype: object\n",
      "Produit    Banane\n",
      "Prix          0.6\n",
      "Name: B, dtype: object\n",
      "A    1.0\n",
      "B    0.6\n",
      "C    0.8\n",
      "D    1.2\n",
      "Name: Prix, dtype: float64\n",
      "  Produit  Prix\n",
      "0   Pomme   1.0\n",
      "1   Poire   0.6\n",
      "2  Orange   0.8\n",
      "3  Banane   1.8\n",
      "  Produit  Prix\n",
      "0   Pomme   1.0\n",
      "1   Poire   0.6\n",
      "2  Orange   0.8\n",
      "  Produit  Prix Couleur\n",
      "0   Pomme   1.0   Rouge\n",
      "1   Poire   0.6    Vert\n",
      "2  Orange   0.8  Orange\n",
      "--------------------------------------------------\n"
     ]
    }
   ],
   "source": [
    "data = {\"Produit\" : ['Pomme', \"Banane\", \"Orange\", \"Poire\"],\n",
    "        \"Prix\" : [1.00, 0.60, 0.80, 1.20]}\n",
    "\n",
    "df_fruits = pd.DataFrame(data=data, index=[\"A\", \"B\", \"C\", \"D\"])\n",
    "print(df_fruits.loc[\"B\"])\n",
    "print(df_fruits.iloc[1])\n",
    "print(df_fruits[\"Prix\"])\n",
    "\n",
    "data = [\n",
    "    {\"Produit\" : \"Pomme\", \"Prix\" : 1.00},\n",
    "    {\"Produit\" : \"Poire\", \"Prix\" : 0.60},\n",
    "    {\"Produit\" : \"Orange\", \"Prix\" : 0.80},\n",
    "    {\"Produit\" : \"Banane\", \"Prix\" : 1.80}\n",
    "]\n",
    "\n",
    "df_fruits = pd.DataFrame(data=data)\n",
    "print(df_fruits)\n",
    "\n",
    "data = [[\"Pomme\", 1.00], [\"Poire\", 0.60], [\"Orange\", 0.80]]\n",
    "df_fruits = pd.DataFrame(data=data)\n",
    "df_fruits.columns = [\"Produit\", \"Prix\"]\n",
    "print(df_fruits)\n",
    "\n",
    "couleurs = [\"Rouge\", \"Vert\", \"Orange\"]\n",
    "df_fruits[\"Couleur\"] = couleurs\n",
    "print(df_fruits)\n",
    "\n",
    "print(\"-\" * 50)\n",
    "# df = pd.read_csv(\"./fruits.csv\")\n",
    "# print(df)"
   ]
  },
  {
   "cell_type": "markdown",
   "id": "5559d2a0",
   "metadata": {},
   "source": [
    "### Exercice 01 :\n",
    "\n",
    "En utilisant le fichier CSV :\n",
    "- Récupérez les 20 premiers enregistrements\n",
    "- Récupérez les 10 derniers enregistrements\n",
    "- Trouvez le nombres d'enregistrements de cette df\n",
    "- Trouvez le noms des colones\n",
    "- Trouvez les types des colones\n",
    "- Calculer l'écart type des salaires\n",
    "- Quelles est la valeur moyenne des salaires des 50 permiers enregistrements"
   ]
  },
  {
   "cell_type": "code",
   "execution_count": 14,
   "id": "841a1086",
   "metadata": {},
   "outputs": [
    {
     "name": "stdout",
     "output_type": "stream",
     "text": [
      "28293.66\n",
      "113789.14\n"
     ]
    }
   ],
   "source": [
    "# Correction\n",
    "df = pd.read_csv(\"./Salaries.csv\")\n",
    "\n",
    "# print(df)\n",
    "\n",
    "# Récupérez les 20 premiers enregistrements\n",
    "# print(df.head(20))\n",
    "\n",
    "# Récupérez les 10 derniers enregistrements\n",
    "# print(df.tail(10))\n",
    "\n",
    "# Trouvez le nombres d'enregistrements de cette df\n",
    "# print(df.shape[0])\n",
    "# print(df.count())\n",
    "# print(len(df))\n",
    "\n",
    "# Trouvez le noms des colones\n",
    "# print(df.columns)\n",
    "\n",
    "# Trouvez les types des colones\n",
    "# print(df.dtypes)\n",
    "\n",
    "# Calculer l'écart type des salaires\n",
    "print(df[\"salary\"].std().round(2))\n",
    "\n",
    "# Quelles est la valeur moyenne des salaires des 50 permiers enregistrements\n",
    "print(df[\"salary\"].head(50).mean())\n"
   ]
  },
  {
   "cell_type": "markdown",
   "id": "3a936147",
   "metadata": {},
   "source": [
    "### 3. Iloc"
   ]
  },
  {
   "cell_type": "code",
   "execution_count": 15,
   "id": "8e61bd01",
   "metadata": {},
   "outputs": [
    {
     "name": "stdout",
     "output_type": "stream",
     "text": [
      "Affichage de la première ligne (en série)\n",
      "rank            Prof\n",
      "discipline         B\n",
      "phd               56\n",
      "service           49\n",
      "sex             Male\n",
      "salary        186960\n",
      "Name: 0, dtype: object\n",
      "Affichage de la première ligne (en df)\n",
      "   rank discipline  phd  service   sex  salary\n",
      "0  Prof          B   56       49  Male  186960\n",
      "Afficher la première et troisième ligne\n",
      "   rank discipline  phd  service   sex  salary\n",
      "0  Prof          B   56       49  Male  186960\n",
      "2  Prof          A   23       20  Male  110515\n",
      "Afficher de la première à la troisième ligne \n",
      "   rank discipline  phd  service   sex  salary\n",
      "0  Prof          B   56       49  Male  186960\n",
      "1  Prof          A   12        6  Male   93000\n",
      "2  Prof          A   23       20  Male  110515\n",
      "Afficher de la 5éme à la 10éme ligne \n",
      "        rank discipline  phd  service   sex  salary\n",
      "4       Prof          B   20       18  Male  104800\n",
      "5       Prof          A   20       20  Male  122400\n",
      "6  AssocProf          A   20       17  Male   81285\n",
      "7       Prof          A   18       18  Male  126300\n",
      "8       Prof          A   29       19  Male   94350\n",
      "9       Prof          A   51       51  Male   57800\n"
     ]
    }
   ],
   "source": [
    "print(\"Affichage de la première ligne (en série)\")\n",
    "print(df.iloc[0])\n",
    "\n",
    "print(\"Affichage de la première ligne (en df)\")\n",
    "print(df.iloc[[0]])\n",
    "\n",
    "print(\"Afficher la première et troisième ligne\")\n",
    "print(df.iloc[[0, 2]])\n",
    "\n",
    "print(\"Afficher de la première à la troisième ligne \")\n",
    "print(df.iloc[0:3])\n",
    "\n",
    "print(\"Afficher de la 5éme à la 10éme ligne \")\n",
    "print(df.iloc[4:10])"
   ]
  },
  {
   "cell_type": "markdown",
   "id": "5835759d",
   "metadata": {},
   "source": [
    "### 4. Filtrage conditionnel\n",
    "\n",
    "En général, en analyse de données, nos ensembles de données sont suffisamment grandes pour ne pas filtrer en fonction de la position, mais plutôt en fonction d'une condition."
   ]
  },
  {
   "cell_type": "code",
   "execution_count": 16,
   "id": "96842222",
   "metadata": {},
   "outputs": [
    {
     "name": "stdout",
     "output_type": "stream",
     "text": [
      "USA        True\n",
      "Canada    False\n",
      "France    False\n",
      "Name: Pop, dtype: bool\n",
      "          year    Pop   PIB\n",
      "USA     1750.0  350.0  20.5\n",
      "France  1984.0   50.0  15.2\n",
      "Pop supérieur à 50 ET Year supérieur à 1800\n",
      "USA       False\n",
      "Canada    False\n",
      "France     True\n",
      "dtype: bool\n",
      "          year   Pop   PIB\n",
      "France  1984.0  50.0  15.2\n",
      "          year    Pop   PIB\n",
      "USA     1750.0  350.0  20.5\n",
      "France  1984.0   50.0  15.2\n"
     ]
    }
   ],
   "source": [
    "serieAnnees = pd.Series(data=annees, index=pays, name='year')\n",
    "seriePop = pd.Series(data=[350, 38, 50], index=pays, name='Pop')\n",
    "seriePIB = pd.Series(data=[20.5,pd.NA ,15.2], index=pays, name='PIB')\n",
    "\n",
    "df = pd.DataFrame([serieAnnees, seriePop, seriePIB])\n",
    "# print(df)\n",
    "\n",
    "df = df.T\n",
    "# print(df)\n",
    "\n",
    "print(df[\"Pop\"] > 50)\n",
    "\n",
    "# Quel pays ont une population supérieur à 50 ?\n",
    "print(df[df[\"Pop\"] >= 50])\n",
    "\n",
    "print(\"Pop supérieur à 50 ET Year supérieur à 1800\")\n",
    "# Opérateurs : OR => |       AND => &         NOT => ~\n",
    "print((df[\"Pop\"] >= 50) & (df[\"year\"]>1800))\n",
    "print(df[(df[\"Pop\"] >= 50) & (df[\"year\"]>1800)])\n",
    "\n",
    "# La population est soit de 350, soit 50\n",
    "print(df[df[\"Pop\"].isin([350, 50])])\n"
   ]
  },
  {
   "cell_type": "markdown",
   "id": "db569779",
   "metadata": {},
   "source": [
    "### 5. Les données manquantes\n",
    "\n",
    "- Les données seront souvent manquantes pour diverses raison, des méthodes ne peuvent pas fonctionner avec des données manquante.\n",
    "- Les options pour gérer les données :\n",
    "    - Les garder\n",
    "    - Les supprimer\n",
    "    - Les remplacer"
   ]
  },
  {
   "cell_type": "code",
   "execution_count": 17,
   "id": "228297e0",
   "metadata": {},
   "outputs": [
    {
     "name": "stdout",
     "output_type": "stream",
     "text": [
      "          year    Pop   PIB\n",
      "USA     1750.0  350.0  20.5\n",
      "Canada    1865     38  <NA>\n",
      "France  1984.0   50.0  15.2\n",
      "         year    Pop    PIB\n",
      "USA     False  False  False\n",
      "Canada  False  False   True\n",
      "France  False  False  False\n",
      "year    0\n",
      "Pop     0\n",
      "PIB     1\n",
      "dtype: int64\n",
      "        year   Pop    PIB\n",
      "USA     True  True   True\n",
      "Canada  True  True  False\n",
      "France  True  True   True\n",
      "          year    Pop    PIB\n",
      "USA     1750.0  350.0   20.5\n",
      "Canada    1865     38  17.85\n",
      "France  1984.0   50.0   15.2\n"
     ]
    },
    {
     "data": {
      "text/html": [
       "<div>\n",
       "<style scoped>\n",
       "    .dataframe tbody tr th:only-of-type {\n",
       "        vertical-align: middle;\n",
       "    }\n",
       "\n",
       "    .dataframe tbody tr th {\n",
       "        vertical-align: top;\n",
       "    }\n",
       "\n",
       "    .dataframe thead th {\n",
       "        text-align: right;\n",
       "    }\n",
       "</style>\n",
       "<table border=\"1\" class=\"dataframe\">\n",
       "  <thead>\n",
       "    <tr style=\"text-align: right;\">\n",
       "      <th></th>\n",
       "      <th>year</th>\n",
       "      <th>Pop</th>\n",
       "      <th>PIB</th>\n",
       "    </tr>\n",
       "  </thead>\n",
       "  <tbody>\n",
       "    <tr>\n",
       "      <th>USA</th>\n",
       "      <td>1750.0</td>\n",
       "      <td>350.0</td>\n",
       "      <td>20.5</td>\n",
       "    </tr>\n",
       "    <tr>\n",
       "      <th>Canada</th>\n",
       "      <td>1865</td>\n",
       "      <td>38</td>\n",
       "      <td>17.85</td>\n",
       "    </tr>\n",
       "    <tr>\n",
       "      <th>France</th>\n",
       "      <td>1984.0</td>\n",
       "      <td>50.0</td>\n",
       "      <td>15.2</td>\n",
       "    </tr>\n",
       "  </tbody>\n",
       "</table>\n",
       "</div>"
      ],
      "text/plain": [
       "          year    Pop    PIB\n",
       "USA     1750.0  350.0   20.5\n",
       "Canada    1865     38  17.85\n",
       "France  1984.0   50.0   15.2"
      ]
     },
     "execution_count": 17,
     "metadata": {},
     "output_type": "execute_result"
    }
   ],
   "source": [
    "print(df)\n",
    "print(df.isnull())\n",
    "# Pour compter le nombres de NA\n",
    "print(df.isnull().sum())\n",
    "print(df.notnull())\n",
    "\n",
    "# Option 2 : Supprimer\n",
    "# df = df.dropna() # df.dropna(axis=1) : supprime la colone avec des NA\n",
    "# print(df)\n",
    "\n",
    "# Option 3 : remplacer\n",
    "pd.set_option('future.no_silent_downcasting', True)\n",
    "df[\"PIB\"] = df[\"PIB\"].fillna(df[\"PIB\"].mean())\n",
    "print(df)\n",
    "df.fillna(\"Nouvelle valeur\")"
   ]
  },
  {
   "cell_type": "markdown",
   "id": "3b5fc153",
   "metadata": {},
   "source": [
    "### 6. GroupBy\n",
    "\n",
    "Permet d'examiner les données par catégorie"
   ]
  },
  {
   "cell_type": "code",
   "execution_count": 18,
   "id": "0977e19a",
   "metadata": {},
   "outputs": [
    {
     "name": "stdout",
     "output_type": "stream",
     "text": [
      "  Produit Magasin  Quantité  Prix    CA\n",
      "0   Pomme       A        10  0.50  5.00\n",
      "1  Banane       B         5  0.90  4.50\n",
      "2  Orange       B        15  0.65  9.75\n",
      "3  Banane       A         8  0.35  2.80\n",
      "4   Poire       B         9  0.58  5.22\n",
      "5   Pomme       B         7  0.67  4.69\n",
      "         Quantité    CA\n",
      "Produit                \n",
      "Banane         13  7.30\n",
      "Orange         15  9.75\n",
      "Poire           9  5.22\n",
      "Pomme          17  9.69\n",
      "Produit  Magasin\n",
      "Banane   A          0.35\n",
      "         B          0.90\n",
      "Orange   B          0.65\n",
      "Poire    B          0.58\n",
      "Pomme    A          0.50\n",
      "         B          0.67\n",
      "Name: Prix, dtype: float64\n"
     ]
    }
   ],
   "source": [
    "data = {\n",
    "    \"Produit\" : [\"Pomme\", \"Banane\", \"Orange\", \"Banane\", \"Poire\", \"Pomme\"],\n",
    "    \"Magasin\" : [\"A\", \"B\", \"B\", \"A\", \"B\", \"B\"],\n",
    "    \"Quantité\" : [10, 5, 15, 8, 9, 7],\n",
    "    \"Prix\" : [0.5, 0.9, 0.65, 0.35, 0.58, 0.67]\n",
    "}\n",
    "\n",
    "df = pd.DataFrame(data)\n",
    "\n",
    "df[\"CA\"] = df[\"Quantité\"] * df[\"Prix\"]\n",
    "\n",
    "print(df)\n",
    "\n",
    "# Le total des quantités et CA par produit\n",
    "print(df.groupby(\"Produit\")[[\"Quantité\", \"CA\"]].sum())\n",
    "\n",
    "# Moyenne du prix par produit et par magasin\n",
    "print(df.groupby([\"Produit\", \"Magasin\"])[\"Prix\"].mean())"
   ]
  },
  {
   "cell_type": "markdown",
   "id": "30a9e571",
   "metadata": {},
   "source": [
    "### Exercice 02 :\n",
    "avec Salaries.csv :\n",
    "- Sortir toutes les stats de base de la colonne salaire (via une méthode)\n",
    "- Calculer le salaire moyen\n",
    "- Calculer le salaire moyen par rang"
   ]
  },
  {
   "cell_type": "code",
   "execution_count": 19,
   "id": "4ad075ad",
   "metadata": {},
   "outputs": [
    {
     "name": "stdout",
     "output_type": "stream",
     "text": [
      "count        78.000000\n",
      "mean     108023.782051\n",
      "std       28293.661022\n",
      "min       57800.000000\n",
      "25%       88612.500000\n",
      "50%      104671.000000\n",
      "75%      126774.750000\n",
      "max      186960.000000\n",
      "Name: salary, dtype: float64\n",
      "Le salaire moyen est de : 108023.78 €\n",
      "rank\n",
      "AssocProf     91786.23\n",
      "AsstProf      81362.79\n",
      "Prof         123624.80\n",
      "Name: salary, dtype: float64\n"
     ]
    }
   ],
   "source": [
    "df = pd.read_csv(\"./Salaries.csv\")\n",
    "\n",
    "base_stats = df[\"salary\"].describe()\n",
    "print(base_stats)\n",
    "\n",
    "mean_salary = df[\"salary\"].mean().round(2)\n",
    "print(f\"Le salaire moyen est de : {mean_salary} €\")\n",
    "\n",
    "mean_salary_by_rank = df.groupby(\"rank\")[\"salary\"].mean().round(2)\n",
    "print(mean_salary_by_rank)"
   ]
  },
  {
   "cell_type": "markdown",
   "id": "6104b3c5",
   "metadata": {},
   "source": [
    "### TP\n",
    "1. Charger le fichier netflix.csv\n",
    "2. Afficher les 5 premières lignes\n",
    "3. Afficher les noms des colonnes et leur type\n",
    "4. Combien il y a-t'il de films et séries dans le catalogue ?\n",
    "5. Combien de contenus sont sortis en 2020 ?\n",
    "6. Affiche tous les contenus dont le pays est \"India\"\n",
    "7. Extraire tous les films de plus de 100 minutes\n",
    "8. Extraire toutes les séries ayant plus d'une saison\n",
    "9. Combien de contenu par pays ?\n",
    "10. Liste des 5 acteurs les plus prolifiques"
   ]
  },
  {
   "cell_type": "code",
   "execution_count": null,
   "id": "784a5d70",
   "metadata": {},
   "outputs": [
    {
     "name": "stdout",
     "output_type": "stream",
     "text": [
      "country\n",
      "United States     3689\n",
      "India             1046\n",
      "United Kingdom     804\n",
      "Canada             445\n",
      "France             393\n",
      "                  ... \n",
      "Somalia              1\n",
      "Sudan                1\n",
      "Uganda               1\n",
      "Vatican City         1\n",
      "United States,       1\n",
      "Name: show_id, Length: 127, dtype: int64\n",
      "cast\n",
      "Anupam Kher         43\n",
      "Shah Rukh Khan      35\n",
      "Julie Tejwani       33\n",
      "Naseeruddin Shah    32\n",
      "Takahiro Sakurai    32\n",
      "Name: show_id, dtype: int64\n"
     ]
    }
   ],
   "source": [
    "df = pd.read_csv(\"./netflix_titles.csv\")\n",
    "\n",
    "countries_split = df[\"country\"].str.split(\", \")\n",
    "cast_split = df[\"cast\"].str.split(\", \")\n",
    "df_country_exploded = df.assign(country=countries_split).explode(\"country\")\n",
    "df_cast_exploded = df.assign(cast=cast_split).explode(\"cast\")\n",
    "\n",
    "# print(df.head(5))\n",
    "# print(df.dtypes)\n",
    "# print(len(df))\n",
    "# print(df[\"type\"].value_counts()) => counts number of movies and tv shows separately\n",
    "# print(len(df[df[\"release_year\"] == 2020]))\n",
    "# print(len(df_country_exploded[df_country_exploded[\"country\"] == \"India\"]))\n",
    "# print(df_country_exploded[df_country_exploded[\"country\"] == \"India\"])\n",
    "# print(df[(df[\"duration\"].str.extract(r\"(\\d+)\")[0].fillna(0).astype(int) > 100) & (df[\"type\"] == \"Movie\")])\n",
    "# print(df[(df[\"type\"] == \"TV Show\") & (df[\"duration\"].str.extract(r\"(\\d)\")[0].fillna(0).astype(int) > 1)])\n",
    "# print(df_country_exploded.groupby(\"country\")[\"show_id\"].count().sort_values(ascending=False ))\n",
    "print(df_cast_exploded.groupby(\"cast\")[\"show_id\"].count().sort_values(ascending=False).head(5))"
   ]
  }
 ],
 "metadata": {
  "kernelspec": {
   "display_name": "Python 3",
   "language": "python",
   "name": "python3"
  },
  "language_info": {
   "codemirror_mode": {
    "name": "ipython",
    "version": 3
   },
   "file_extension": ".py",
   "mimetype": "text/x-python",
   "name": "python",
   "nbconvert_exporter": "python",
   "pygments_lexer": "ipython3",
   "version": "3.13.5"
  }
 },
 "nbformat": 4,
 "nbformat_minor": 5
}
