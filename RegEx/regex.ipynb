{
 "cells": [
  {
   "cell_type": "markdown",
   "id": "0cc04c5b",
   "metadata": {},
   "source": [
    "## Expressions régulières (Regex)\n",
    "\n",
    "Les **regex** sont des outils puissants pour manipuler et filtrer des chaînes de caractères, utiles pour :\n",
    "\n",
    "- Nettoyer des colones (emails, téléphones ect.)\n",
    "- Valider des formats\n",
    "- Extraire des informations spécifiques dans du texte ou des logs."
   ]
  },
  {
   "cell_type": "code",
   "execution_count": null,
   "id": "bf19f3e9",
   "metadata": {},
   "outputs": [],
   "source": [
    "# Import du module regex\n",
    "import re"
   ]
  },
  {
   "cell_type": "markdown",
   "id": "ff489678",
   "metadata": {},
   "source": [
    "### Les bases des regex\n",
    "\n",
    "- `.`: n'importe quel caractère\n",
    "- `^`: debut de chaîne\n",
    "- `$`: fin de la chaîne\n",
    "- `*`: 0 ou plusieurs fois\n",
    "- `+`: 1 ou plusieurs fois\n",
    "- `?`: 0 ou 1 fois\n",
    "- `[]`: ensemble de caractères possibles\n",
    "- `\\`: caractère d'échappement\n",
    "- `|`: OU logique\n",
    "- `&`: ET logique"
   ]
  },
  {
   "cell_type": "code",
   "execution_count": 2,
   "id": "49973859",
   "metadata": {},
   "outputs": [],
   "source": [
    "# Exemple : Vérifie si la chaîne commence par une lettre et termine par un chiffre\n",
    "pattern = r\"^[a-zA-Z].*\\d$\""
   ]
  },
  {
   "cell_type": "markdown",
   "id": "fd8cb4a2",
   "metadata": {},
   "source": [
    "### Groupes et quantificateurs\n",
    "\n",
    "- `(abc)`: groupe\n",
    "- `{n}`: exactement n fois\n",
    "- `{n,}`: au moins n fois\n",
    "- `{n,m}`: entre n et m fois"
   ]
  },
  {
   "cell_type": "code",
   "execution_count": 3,
   "id": "442aca2c",
   "metadata": {},
   "outputs": [],
   "source": [
    "# exemple : extraire l'année d'une chaîne :\n",
    "pattern = r\"(\\d{4})\""
   ]
  },
  {
   "cell_type": "markdown",
   "id": "cae2e042",
   "metadata": {},
   "source": [
    "### Méthodes utiles de `re`\n",
    "\n",
    "- `re.match()`: correspondance depuis le début\n",
    "- `re.search()`: première correspondance\n",
    "- `re.findall()`: toutes les correspondances\n",
    "- `re.sub()`: remplacement"
   ]
  },
  {
   "cell_type": "markdown",
   "id": "da582d61",
   "metadata": {},
   "source": [
    "### 1. Recherche simple avec `search`\n",
    "\n",
    "`re.search(pattern, string)` permet de vérifier si un pattern est présent dans la chaîne de caractères.\n",
    "\n",
    "Exemple :"
   ]
  },
  {
   "cell_type": "code",
   "execution_count": 77,
   "id": "c02dfb6c",
   "metadata": {},
   "outputs": [
    {
     "name": "stdout",
     "output_type": "stream",
     "text": [
      "<re.Match object; span=(23, 27), match='2025'>\n",
      "2025\n",
      "(23, 27)\n"
     ]
    }
   ],
   "source": [
    "text = \"Le rapport est daté de 2025 2024\"\n",
    "pattern = r\"(\\b\\d{4}\\b)\"\n",
    "resultat = re.search(pattern, text)\n",
    "print(resultat)\n",
    "print(resultat.group())\n",
    "print(resultat.span())"
   ]
  },
  {
   "cell_type": "markdown",
   "id": "fce8356f",
   "metadata": {},
   "source": [
    "#### Exercice 01 :\n",
    "\n",
    "Vérifie si la chaîne : `test0xB0testtest`contient le motif `0xB0`"
   ]
  },
  {
   "cell_type": "code",
   "execution_count": 78,
   "id": "71521f91",
   "metadata": {},
   "outputs": [
    {
     "name": "stdout",
     "output_type": "stream",
     "text": [
      "Motif trouvé !\n"
     ]
    }
   ],
   "source": [
    "# Correction :\n",
    "text = \"test0xB0testtest\"\n",
    "pattern = r\"0[xX]B0\"\n",
    "result = bool(re.search(pattern, text))\n",
    "\n",
    "if result :\n",
    "    print(\"Motif trouvé !\")\n",
    "else:\n",
    "    print(\"Motif non trouvé !\")"
   ]
  },
  {
   "cell_type": "markdown",
   "id": "3668955e",
   "metadata": {},
   "source": [
    "### 2. Filtrer une liste avec `re.search`\n",
    "\n",
    "On peu appliquer une regex à chaque élément d'une liste pour filtrer selon un critère.\n",
    "\n",
    "exemple :"
   ]
  },
  {
   "cell_type": "code",
   "execution_count": 43,
   "id": "e311da4a",
   "metadata": {},
   "outputs": [
    {
     "name": "stdout",
     "output_type": "stream",
     "text": [
      "['ananas', 'abricot']\n"
     ]
    }
   ],
   "source": [
    "fruits = [\"banane\", \"pomme\", \"ananas\", \"abricot\", \"fraise\"]\n",
    "\n",
    "# pattern : Commence par \"a\" suivi d'au moins deux lettres\n",
    "pattern = r\"^[aA][a-z]{2,}\"\n",
    "\n",
    "result = [fruit for fruit in fruits if re.search(pattern, fruit)]\n",
    "\n",
    "print(result)"
   ]
  },
  {
   "cell_type": "markdown",
   "id": "c5238262",
   "metadata": {},
   "source": [
    "### Exercice 2\n",
    "\n",
    "filtrer la liste avec les mots ne contenant **pas** la lettre `e`."
   ]
  },
  {
   "cell_type": "code",
   "execution_count": 44,
   "id": "98422b84",
   "metadata": {},
   "outputs": [
    {
     "name": "stdout",
     "output_type": "stream",
     "text": [
      "['ananas', 'abricot']\n"
     ]
    }
   ],
   "source": [
    "# Correction\n",
    "fruits = [\"banane\", \"pomme\", \"ananas\", \"abricot\", \"fraise\"]\n",
    "pattern = r\"[eE]\"\n",
    "\n",
    "result = [fruit for fruit in fruits if not re.search(pattern, fruit)]\n",
    "print(result)"
   ]
  },
  {
   "cell_type": "markdown",
   "id": "019b5e85",
   "metadata": {},
   "source": [
    "### 3. Découper des lignes et ignorer la casse\n",
    "\n",
    "- `re.split()`: permet de découper une chaîne\n",
    "- `re.IGNORECASE`: rend les recherches insensible à la casse "
   ]
  },
  {
   "cell_type": "code",
   "execution_count": 50,
   "id": "7b4c3279",
   "metadata": {},
   "outputs": [
    {
     "name": "stdout",
     "output_type": "stream",
     "text": [
      "['Python', 'PYTHON', 'python']\n",
      "['banane', 'pomme', 'ananas', 'abricot', 'fraise']\n"
     ]
    }
   ],
   "source": [
    "# ignorecase :\n",
    "text = \"Python, PYTHON, python\"\n",
    "pattern = r\"python\"\n",
    "\n",
    "match = re.findall(pattern, text, re.IGNORECASE)\n",
    "print(match)\n",
    "\n",
    "# split\n",
    "text = \"banane pomme ananas abricot fraise\"\n",
    "result = re.split(r\" \", text)\n",
    "print(result)"
   ]
  },
  {
   "cell_type": "markdown",
   "id": "404cdfef",
   "metadata": {},
   "source": [
    "### Exercice 03\n",
    "\n",
    "- Supprime les lignes contenant le mot `start` (majuscule ou minuscule)\n",
    "\n",
    "```python\n",
    "text= \"\"\"test1\n",
    "test2start\n",
    "test3\n",
    "test4StaRt\"\"\"\n",
    "```"
   ]
  },
  {
   "cell_type": "code",
   "execution_count": 54,
   "id": "a400baa8",
   "metadata": {},
   "outputs": [
    {
     "name": "stdout",
     "output_type": "stream",
     "text": [
      "['test1', 'test2start', 'test3', 'test4StaRt']\n",
      "['test1', 'test3']\n"
     ]
    }
   ],
   "source": [
    "# Correction\n",
    "text= \"\"\"test1\n",
    "test2start\n",
    "test3\n",
    "test4StaRt\"\"\"\n",
    "\n",
    "liste = re.split(r\"\\n\", text)\n",
    "print(liste)\n",
    "pattern = r\"start\"\n",
    "result = [ligne for ligne in liste if not re.search(pattern, ligne, re.IGNORECASE)]\n",
    "print(result)"
   ]
  },
  {
   "cell_type": "markdown",
   "id": "b88adb50",
   "metadata": {},
   "source": [
    "### 4. Remplacement de pattern avec `re.sub()`\n",
    "\n",
    "- `re.sub(pattern, remplacement, text)` remplace toutes les occurences d'un pattern\n",
    "- Possible de limiter avec : `count=1`"
   ]
  },
  {
   "cell_type": "code",
   "execution_count": 57,
   "id": "87998600",
   "metadata": {},
   "outputs": [
    {
     "name": "stdout",
     "output_type": "stream",
     "text": [
      "Le prix est de ** €. Le prix est de ** €. Le prix est de ** €.\n"
     ]
    }
   ],
   "source": [
    "text = \"Le prix est de 50 euros. Le prix est de 500 euros. Le prix est de 5 euros.\"\n",
    "result = re.sub(r\"euros\", \"€\", text)\n",
    "result = re.sub(r\"\\d+\", \"**\", result)\n",
    "\n",
    "print(result)"
   ]
  },
  {
   "cell_type": "markdown",
   "id": "821f92b7",
   "metadata": {},
   "source": [
    "### Exercice 04 :\n",
    "\n",
    "```python\n",
    "text = \"123 456 789 564\"\n",
    "```\n",
    "1. Remplacer les `5` par `cinq`\n",
    "\n",
    "```python\n",
    "text2 = \"Note : ce paragraphe contient des notes\"\n",
    "```\n",
    "\n",
    "2. Remplacer tous les `note` par `X` (insensible à la casse)\n"
   ]
  },
  {
   "cell_type": "code",
   "execution_count": 62,
   "id": "5b66c6e8",
   "metadata": {},
   "outputs": [
    {
     "name": "stdout",
     "output_type": "stream",
     "text": [
      "123 4cinq6 789 cinq64\n",
      "X : ce paragraphe contient des Xs\n"
     ]
    }
   ],
   "source": [
    "text = \"123 456 789 564\"\n",
    "text2 = \"Note : ce paragraphe contient des notes\"\n",
    "\n",
    "# remplacer les 5 par cinq\n",
    "result = re.sub(r\"5\", \"cinq\", text)\n",
    "print(result)\n",
    "\n",
    "# remplacer note par X\n",
    "result2 = re.sub(r\"note\", \"X\", text2, flags=re.IGNORECASE)\n",
    "print(result2)"
   ]
  },
  {
   "cell_type": "markdown",
   "id": "1404684f",
   "metadata": {},
   "source": [
    "### 5. Vérifie si le début de la chaîne correspond au pattern avec `re.match`\n",
    "\n",
    "Exemple :"
   ]
  },
  {
   "cell_type": "code",
   "execution_count": 66,
   "id": "02e97d2d",
   "metadata": {},
   "outputs": [
    {
     "name": "stdout",
     "output_type": "stream",
     "text": [
      "<re.Match object; span=(0, 3), match='abc'>\n",
      "abc\n"
     ]
    }
   ],
   "source": [
    "text = \"abc123abc456\"\n",
    "\n",
    "pattern = r\"[a-z]+\"\n",
    "result = re.match(pattern, text)\n",
    "print(result)\n",
    "print(result.group())"
   ]
  },
  {
   "cell_type": "markdown",
   "id": "34f01580",
   "metadata": {},
   "source": [
    "### 6. Retourne toutes les occurences avec `re.findall`\n",
    "\n",
    "exemple :"
   ]
  },
  {
   "cell_type": "code",
   "execution_count": 68,
   "id": "6491c702",
   "metadata": {},
   "outputs": [
    {
     "name": "stdout",
     "output_type": "stream",
     "text": [
      "['abc', 'abc']\n"
     ]
    }
   ],
   "source": [
    "result = re.findall(pattern, text)\n",
    "print(result)"
   ]
  },
  {
   "cell_type": "markdown",
   "id": "038cd03a",
   "metadata": {},
   "source": [
    "### Exercice 05\n",
    "\n",
    "```python\n",
    "texte = \"Nom: Dupont, Âge: 34, Email: dupont@example.com; Nom: Martin, Âge: 28, Email: martin@example.org\"\n",
    "```\n",
    "\n",
    "1. Utilise re.match pour vérifier si la chaîne commence par `Nom`\n",
    "2. Utilise re.findall pour extraire les ages\n",
    "3. Utilise re.findall pour extraire les emails"
   ]
  },
  {
   "cell_type": "code",
   "execution_count": 76,
   "id": "ec0f9da3",
   "metadata": {},
   "outputs": [
    {
     "name": "stdout",
     "output_type": "stream",
     "text": [
      "Match début : True\n",
      "Âge trouvés : ['34', '28']\n",
      "emails trouvés : ['dupont@example.com', 'martin@example.org']\n"
     ]
    }
   ],
   "source": [
    "# Correction\n",
    "texte = \"Nom: Dupont, Âge: 34, Email: dupont@example.com; Nom: Martin, Âge: 28, Email: martin@example.org\"\n",
    "\n",
    "# 1. \n",
    "result1 = re.match(r\"Nom\", texte)\n",
    "print(f\"Match début : {bool(result1)}\")\n",
    "\n",
    "# 2.\n",
    "result2 = re.findall(r\"Âge:\\s*(\\d+)\", texte)\n",
    "print(f\"Âge trouvés : {result2}\")\n",
    "\n",
    "# 3.\n",
    "result3 = re.findall(r\"[a-zA-Z0-9.-_$%+]+@[a-zA-Z.-]+\\.[a-zA-Z]{2,}\", texte)\n",
    "print(f\"emails trouvés : {result3}\")\n"
   ]
  },
  {
   "cell_type": "markdown",
   "id": "d5dde2db",
   "metadata": {},
   "source": [
    "### TP : Nettoyage de données\n",
    "\n",
    "On va nettoyer un fichier CSV :\n",
    "- emails avec format incorrect\n",
    "- prix mal formatés\n",
    "- dates de naissance ambigues\n",
    "- numéros de téléphones au format différents\n",
    "\n",
    "Écrire un nouveau CSV propre"
   ]
  },
  {
   "cell_type": "code",
   "execution_count": 79,
   "id": "fc9b9b22",
   "metadata": {},
   "outputs": [],
   "source": [
    "# Correction\n",
    "import csv, re\n",
    "\n",
    "donnees_netoyees = []\n",
    "\n",
    "def nettoyer_email(email):\n",
    "    email = re.sub(r\"\\[at\\]|\\(at\\)\", \"@\", email)\n",
    "    email = re.sub(r\"_|\\(dot\\)\", \".\", email)\n",
    "    return email\n",
    "\n",
    "def nettoyer_prix(prix):\n",
    "    prix = re.sub(r\"[$€eurosEUR\\s]\", \"\", prix)\n",
    "    prix = re.sub(r\",\", \".\", prix)\n",
    "    return float(prix)\n",
    "\n",
    "def nettoyer_date(date):\n",
    "    date = re.sub(r\"[./]\", \"-\", date)\n",
    "    date_list = sorted(date.split(\"-\"))\n",
    "    jour, mois, annee = date_list\n",
    "    return f\"{jour}/{mois}/{annee}\"\n",
    "\n",
    "def nettoyer_phone(phone):\n",
    "    phone = re.sub(r\"\\D\", \"\", phone)\n",
    "    phone = re.sub(r\"^33|^0033\", \"0\", phone)\n",
    "    phone = re.sub(r\"^6\", \"06\", phone)\n",
    "    return phone\n",
    "\n",
    "with open(\"./donnees_sales.csv\", \"r\", encoding=\"UTF-8\") as file:\n",
    "    reader = csv.reader(file)\n",
    "    columns = next(reader)\n",
    "    donnees_netoyees.append(columns)\n",
    "    for line in reader:\n",
    "        id, email, prix, date, phone = line\n",
    "        email_propre = nettoyer_email(email)\n",
    "        prix_propre = nettoyer_prix(prix)\n",
    "        date_propre = nettoyer_date(date)\n",
    "        phone_propre = nettoyer_phone(phone)\n",
    "        donnees_netoyees.append([id, email_propre, prix_propre, date_propre, phone_propre])\n",
    "\n",
    "with open(\"./donnees_propre.csv\", \"w\", encoding=\"UTF-8\", newline=\"\") as file:\n",
    "    writer = csv.writer(file)\n",
    "    writer.writerows(donnees_netoyees)\n",
    "\n",
    "\n"
   ]
  }
 ],
 "metadata": {
  "kernelspec": {
   "display_name": "Python 3",
   "language": "python",
   "name": "python3"
  },
  "language_info": {
   "codemirror_mode": {
    "name": "ipython",
    "version": 3
   },
   "file_extension": ".py",
   "mimetype": "text/x-python",
   "name": "python",
   "nbconvert_exporter": "python",
   "pygments_lexer": "ipython3",
   "version": "3.13.5"
  }
 },
 "nbformat": 4,
 "nbformat_minor": 5
}
