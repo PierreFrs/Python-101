{
 "cells": [
  {
   "cell_type": "markdown",
   "id": "70a4a8dd",
   "metadata": {},
   "source": [
    "# Regular Expressions (RegEx)\n",
    "\n",
    "**RegEx** are a powerful tool for manipulating and filtering strings. Useful for :\n",
    "- Clean columns (emails, phone numbers, etc.)\n",
    "- Validate formats\n",
    "- Extract informations\n",
    "- Templates available at <a>www.regex101.com</a>"
   ]
  },
  {
   "cell_type": "code",
   "execution_count": 1,
   "id": "9b9690ba",
   "metadata": {},
   "outputs": [],
   "source": [
    "# import regex module\n",
    "import re"
   ]
  },
  {
   "cell_type": "markdown",
   "id": "952b89c0",
   "metadata": {},
   "source": [
    "## RegEx basics\n",
    "- `.` : any character\n",
    "- `^` : string starting point\n",
    "- `$` : end of string\n",
    "- `*` : 0 or n\n",
    "- `+` : 1 or n\n",
    "- `?` : 0 or 1\n",
    "- `[]` : predifined possible characters\n",
    "- `\\` : escape character\n",
    "- `|` : logical OR\n",
    "- `&` : logical AND"
   ]
  },
  {
   "cell_type": "code",
   "execution_count": 2,
   "id": "689d555f",
   "metadata": {},
   "outputs": [],
   "source": [
    "# Example : verify if the string starts by a letter and ends with a number\n",
    "pattern = r\"^\\w.*\\d$\" # r\"^[a-zA-Z].*[0-9]$\""
   ]
  },
  {
   "cell_type": "markdown",
   "id": "d4724474",
   "metadata": {},
   "source": [
    "## Groups & quantifiers\n",
    "- `(abc)` : group\n",
    "- `{n}` : exactly n times\n",
    "- `{n,}` : at least n times\n",
    "- `{n,m}` : between n & m times"
   ]
  },
  {
   "cell_type": "code",
   "execution_count": 3,
   "id": "919e94a5",
   "metadata": {},
   "outputs": [],
   "source": [
    "# example : extract a year from a string\n",
    "pattern = r\"(\\d{4})\""
   ]
  },
  {
   "cell_type": "markdown",
   "id": "3d6fd766",
   "metadata": {},
   "source": [
    "## `re` methods\n",
    "- `re.match()` : match since the start (first word)\n",
    "- `re.search()` : first match\n",
    "- `re.findall()` : all matches\n",
    "- `re.sub()` : replace"
   ]
  },
  {
   "cell_type": "markdown",
   "id": "a1e83185",
   "metadata": {},
   "source": [
    "1. Simple research with `search`\n",
    "`re.search(pattern, string)` check if a pattern is present in a string\n",
    "Example : "
   ]
  },
  {
   "cell_type": "code",
   "execution_count": 24,
   "id": "f57db0e3",
   "metadata": {},
   "outputs": [
    {
     "name": "stdout",
     "output_type": "stream",
     "text": [
      "<re.Match object; span=(23, 27), match='2025'>\n",
      "2025\n"
     ]
    }
   ],
   "source": [
    "text = \"Le rapport est daté de 2025\"\n",
    "pattern = r\"(\\b\\d{4}\\b)\"\n",
    "result = re.search(pattern, text)\n",
    "print(result)\n",
    "print(result.group(0))"
   ]
  },
  {
   "cell_type": "markdown",
   "id": "a576ada9",
   "metadata": {},
   "source": [
    "### Exercise 01 :\n",
    "Test if the string : `test0xB0testtest` contains the string `0xB0`"
   ]
  },
  {
   "cell_type": "code",
   "execution_count": 33,
   "id": "b2103d3a",
   "metadata": {},
   "outputs": [
    {
     "name": "stdout",
     "output_type": "stream",
     "text": [
      "Motif trouvé !\n"
     ]
    }
   ],
   "source": [
    "# Answer :\n",
    "string = \"test0xB0testtest\"\n",
    "pattern = r\"0xB0\"\n",
    "result = bool(re.search(pattern, string))\n",
    "if result :\n",
    "    print(\"Motif trouvé !\")\n",
    "else:\n",
    "    print(\"Motif non trouvé !\")"
   ]
  },
  {
   "cell_type": "markdown",
   "id": "d06ce8c6",
   "metadata": {},
   "source": [
    "## Filtering a list with `re.search`\n",
    "We can apply a regex filter criteria on each element of a list.\n",
    "Example :"
   ]
  },
  {
   "cell_type": "code",
   "execution_count": 36,
   "id": "99d8eb1e",
   "metadata": {},
   "outputs": [
    {
     "name": "stdout",
     "output_type": "stream",
     "text": [
      "['ananas', 'abricot']\n"
     ]
    }
   ],
   "source": [
    "fruits = [\"banane\", \"pomme\", \"ananas\", \"abricot\", \"fraise\"]\n",
    "\n",
    "# pattern : starts with \"a\" followed by at least two letters\n",
    "pattern = r\"^[aA][a-z]{2,}\"\n",
    "\n",
    "result = [fruit for fruit in fruits if re.search(pattern, fruit)]\n",
    "\n",
    "print(result)"
   ]
  },
  {
   "cell_type": "markdown",
   "id": "831cd049",
   "metadata": {},
   "source": [
    "### Exercise 02\n",
    "Filter a list with words that do not contain the letter `e`."
   ]
  },
  {
   "cell_type": "code",
   "execution_count": 39,
   "id": "da50e84e",
   "metadata": {},
   "outputs": [
    {
     "name": "stdout",
     "output_type": "stream",
     "text": [
      "['pain', 'stylo']\n"
     ]
    }
   ],
   "source": [
    "# Answer\n",
    "words = [\"ordinateur\", \"pain\", \"stylo\", \"chaussures\"]\n",
    "pattern = r\"[eE]\"\n",
    "result = [word for word in words if not re.search(pattern, word)]\n",
    "print(result)"
   ]
  },
  {
   "cell_type": "markdown",
   "id": "da117aa6",
   "metadata": {},
   "source": [
    "## Split lines and ignore case\n",
    "- `re.split()` : allow string splitting\n",
    "- `re.IGNORECASE` : ignores case"
   ]
  },
  {
   "cell_type": "code",
   "execution_count": 43,
   "id": "1da4e619",
   "metadata": {},
   "outputs": [
    {
     "name": "stdout",
     "output_type": "stream",
     "text": [
      "['bane', 'pomme', 'ananas', 'abricot', 'fraise']\n",
      "['PYTHON', 'pYTHON', 'python']\n"
     ]
    }
   ],
   "source": [
    "# split() :\n",
    "text = \"bane;pomme;ananas;abricot;fraise\"\n",
    "pattern = r\";\"\n",
    "result = re.split(pattern, text)\n",
    "print(result)\n",
    "\n",
    "# ignorecase :\n",
    "text = \"Pyhton, PYTHON, pYTHON, python\"\n",
    "pattern = r\"python\"\n",
    "match = re.findall(pattern, text, re.IGNORECASE)\n",
    "print(match)"
   ]
  },
  {
   "cell_type": "markdown",
   "id": "3be5fb6f",
   "metadata": {},
   "source": [
    "### Exercise 03\n",
    "- Delete lines containing `start` (lower or upper case alike)\n",
    "```python\n",
    "text = \"\"\"test1\n",
    "test2start\n",
    "test3\n",
    "test4Start\"\"\"\n",
    "```"
   ]
  },
  {
   "cell_type": "code",
   "execution_count": 47,
   "id": "f551f38c",
   "metadata": {},
   "outputs": [
    {
     "name": "stdout",
     "output_type": "stream",
     "text": [
      "splitted_list :  ['test1', 'test2start', 'test3', 'test4Start']\n",
      "['test1', 'test3']\n"
     ]
    }
   ],
   "source": [
    "text = \"\"\"test1\n",
    "test2start\n",
    "test3\n",
    "test4Start\"\"\"\n",
    "\n",
    "split_pattern = r\"\\n\"\n",
    "splitted_list = re.split(split_pattern, text)\n",
    "print(\"splitted_list : \", splitted_list)\n",
    "\n",
    "delete_pattern = r\"start\"\n",
    "filtered_list = [word for word in splitted_list if not re.search(delete_pattern, word, re.IGNORECASE)]\n",
    "print(\"filtered_list : \", filtered_list)"
   ]
  },
  {
   "cell_type": "markdown",
   "id": "94d9aabc",
   "metadata": {},
   "source": [
    "## Replacing patterns with `re.sub()`\n",
    "- `re.sub(pattern, replacement, text)` : replace all occurences of a given pattern in a string\n",
    "- `re.sub(pattern, replacement, text, count=1)` : limit the replacement to 1 occurence"
   ]
  },
  {
   "cell_type": "code",
   "execution_count": 50,
   "id": "c4a3decf",
   "metadata": {},
   "outputs": [
    {
     "name": "stdout",
     "output_type": "stream",
     "text": [
      "Le prix est de **€.\n"
     ]
    }
   ],
   "source": [
    "text = \"Le prix est de 50 euros.\"\n",
    "result = re.sub(r\" euros\", \"€\", text)\n",
    "result = re.sub(r\"\\d+\", \"**\", result)\n",
    "print(result)"
   ]
  },
  {
   "cell_type": "markdown",
   "id": "71b08bef",
   "metadata": {},
   "source": [
    "### Exercise 04 :\n",
    "```python\n",
    "text = \"123 456 789 564\"\n",
    "```\n",
    "1. Replace each `5` by `cinq`\n",
    "```python\n",
    "text2 = \"note : ce paragraphe contient des notes\"\n",
    "```\n",
    "2. Replace each `notes` by `X` (case incensitive)"
   ]
  },
  {
   "cell_type": "code",
   "execution_count": 55,
   "id": "2867ddf5",
   "metadata": {},
   "outputs": [
    {
     "name": "stdout",
     "output_type": "stream",
     "text": [
      "123 4cinq6 789 cinq64\n",
      "note : ce paragraphe contient des X\n"
     ]
    }
   ],
   "source": [
    "text = \"123 456 789 564\"\n",
    "text2 = \"note : ce paragraphe contient des notes\"\n",
    "\n",
    "result = re.sub(r\"5\", \"cinq\", text)\n",
    "print(result)\n",
    "\n",
    "result = re.sub(r\"notes\", \"X\", text2, flags=re.IGNORECASE)\n",
    "print(result)"
   ]
  },
  {
   "cell_type": "markdown",
   "id": "a3894dd2",
   "metadata": {},
   "source": [
    "## Verify if the string start matches the pattern with `re.match()`\n",
    "Example :"
   ]
  },
  {
   "cell_type": "code",
   "execution_count": 58,
   "id": "4a856eda",
   "metadata": {},
   "outputs": [
    {
     "name": "stdout",
     "output_type": "stream",
     "text": [
      "<re.Match object; span=(0, 3), match='abc'>\n",
      "<class 'str'>\n"
     ]
    }
   ],
   "source": [
    "text = \"abc123abc456\"\n",
    "pattern = r\"[a-z]+\"\n",
    "result = re.match(pattern, text)\n",
    "print(result)\n",
    "print(result.group())"
   ]
  },
  {
   "cell_type": "markdown",
   "id": "e82f7f83",
   "metadata": {},
   "source": [
    "## Return all occurences with `re.findall()`\n",
    "Example :"
   ]
  },
  {
   "cell_type": "code",
   "execution_count": 60,
   "id": "c2dd2760",
   "metadata": {},
   "outputs": [
    {
     "name": "stdout",
     "output_type": "stream",
     "text": [
      "['abc', 'abc']\n"
     ]
    }
   ],
   "source": [
    "result = re.findall(pattern, text)\n",
    "print(result)"
   ]
  },
  {
   "cell_type": "markdown",
   "id": "b51ef156",
   "metadata": {},
   "source": [
    "### Exercise 05\n",
    "```python\n",
    "texte = \"Nom: Dupont, Age: 34, Email: dupont@example.com; Nom: Martin, Age: 28, Email: martin@example.com\"\n",
    "```\n",
    "1. Use `re.match()` to see if the string starts with `Nom`\n",
    "2. Use `re.findall()` to extract ages\n",
    "3. Use `re.findall()` to extract emails"
   ]
  },
  {
   "cell_type": "code",
   "execution_count": 67,
   "id": "56f774e7",
   "metadata": {},
   "outputs": [
    {
     "name": "stdout",
     "output_type": "stream",
     "text": [
      "<re.Match object; span=(0, 3), match='Nom'>\n",
      "['34', '28']\n",
      "['dupont@example.com', 'martin@example.com']\n"
     ]
    }
   ],
   "source": [
    "# Answer\n",
    "texte = \"Nom: Dupont, Age: 34, Email: dupont@example.com; Nom: Martin, Age: 28, Email: martin@example.com\"\n",
    "string_starter = re.match(r\"Nom\", texte)\n",
    "print(string_starter)\n",
    "ages = re.findall(r\"Age:\\s*(\\d+)\", texte)\n",
    "print(ages)\n",
    "emails = re.findall(r\"[a-ZA-Z0-9.-_$€!#+*]+@[a-ZA-Z.-]+\\.\\w{2,}\", texte)\n",
    "print(emails)\n"
   ]
  },
  {
   "cell_type": "markdown",
   "id": "6c2fd8a7",
   "metadata": {},
   "source": [
    "## TP : Data cleaning\n",
    "We'll clean a CSV file :\n",
    "- Incorrect emails\n",
    "- incorrect prices\n",
    "- Ambigus dates of birth\n",
    "- Different phone number formats"
   ]
  },
  {
   "cell_type": "code",
   "execution_count": 143,
   "id": "c5b6c385",
   "metadata": {},
   "outputs": [],
   "source": [
    "# Dependancy import\n",
    "import csv\n",
    "from dateutil import parser"
   ]
  },
  {
   "cell_type": "code",
   "execution_count": 144,
   "id": "4eb7ce56",
   "metadata": {},
   "outputs": [
    {
     "name": "stdout",
     "output_type": "stream",
     "text": [
      "[['1', 'jean.dupont[at]example.com', '€35', '02/08/1980', '06-01-02-03-04'], ['2', 'marie.dupont(at)example(dot)fr', '34,99$', '1980.08.02', '0601020304'], ['3', 'pierre.martin[at]exemple.org', '35 euros', '1980/08/02', '+33 6 01 02 03 04'], ['4', 'julie.francois(at)example_com', '€35.00', '02-08-1980', '6.01.02.03.04'], ['5', 'emilie.durand@example.com', '35EUR', '1980-08-02', '0033 6 01 02 03 04']]\n"
     ]
    }
   ],
   "source": [
    "# Convert CSV data into multi dimentional array\n",
    "original_file_path = \"./data/donnees_sales.csv\"\n",
    "users_list = []\n",
    "\n",
    "with open(original_file_path, \"r\", encoding=\"UTF_8\") as file:\n",
    "    users = csv.reader(file, delimiter=\",\")\n",
    "    next(users) # pass 1st line\n",
    "    for user in users:\n",
    "        users_list.append(user)\n",
    "\n",
    "print(users_list)"
   ]
  },
  {
   "cell_type": "code",
   "execution_count": null,
   "id": "cabee8f7",
   "metadata": {},
   "outputs": [],
   "source": [
    "# Define regex patterns\n",
    "email_pattern = r\"^((?!\\.)[\\w\\-_.]*[^.])(@\\w+)(\\.\\w+(\\.\\w+)?[^.\\W])$\"\n",
    "price_pattern =r\"[+-]?([0-9]*[.])?[0-9]+\"\n",
    "phone_pattern =r\"^\\+\\d{2}\\s\\d{1}\\s\\d{2}\\s\\d{2}\\s\\d{2}\\s\\d{2}$\"\n",
    "\n",
    "\n"
   ]
  },
  {
   "cell_type": "code",
   "execution_count": 146,
   "id": "f5b82bac",
   "metadata": {},
   "outputs": [
    {
     "name": "stdout",
     "output_type": "stream",
     "text": [
      "[['1', 'jean.dupont@example.com', '€35', '02/08/1980', '06-01-02-03-04'], ['2', 'marie.dupont@example.fr', '34,99$', '1980.08.02', '0601020304'], ['3', 'pierre.martin@exemple.org', '35 euros', '1980/08/02', '+33 6 01 02 03 04'], ['4', 'julie.francois@example.com', '€35.00', '02-08-1980', '6.01.02.03.04'], ['5', 'emilie.durand@example.com', '35EUR', '1980-08-02', '0033 6 01 02 03 04']]\n"
     ]
    }
   ],
   "source": [
    "# Cleaning emails\n",
    "def email_cleaner(email : str):\n",
    "    email = re.sub(r\"\\[at\\]|\\(at\\)\", \"@\", email)\n",
    "\n",
    "    email = re.sub(r\"\\(dot\\)|_\", \".\", email)\n",
    "    return email\n",
    "\n",
    "for user in users_list:\n",
    "    if re.search(email_pattern, user[1]) != user[1]:\n",
    "        user[1] = email_cleaner(user[1])\n",
    "\n",
    "print(users_list)\n"
   ]
  },
  {
   "cell_type": "code",
   "execution_count": 147,
   "id": "cd0c4c2e",
   "metadata": {},
   "outputs": [
    {
     "name": "stdout",
     "output_type": "stream",
     "text": [
      "[['1', 'jean.dupont@example.com', 35.0, '02/08/1980', '06-01-02-03-04'], ['2', 'marie.dupont@example.fr', 34.0, '1980.08.02', '0601020304'], ['3', 'pierre.martin@exemple.org', 35.0, '1980/08/02', '+33 6 01 02 03 04'], ['4', 'julie.francois@example.com', 35.0, '02-08-1980', '6.01.02.03.04'], ['5', 'emilie.durand@example.com', 35.0, '1980-08-02', '0033 6 01 02 03 04']]\n"
     ]
    }
   ],
   "source": [
    "# cleaning prices\n",
    "def prices_cleaner(price):\n",
    "    price = re.search(price_pattern, price)\n",
    "    return float(price.group())\n",
    "\n",
    "for user in users_list:\n",
    "    if re.search(price_pattern, user[2]) != user[2]:\n",
    "        user[2] = prices_cleaner(user[2])\n",
    "\n",
    "print(users_list)"
   ]
  },
  {
   "cell_type": "code",
   "execution_count": null,
   "id": "0b40eb11",
   "metadata": {},
   "outputs": [
    {
     "name": "stdout",
     "output_type": "stream",
     "text": [
      "[['1', 'jean.dupont@example.com', 35.0, datetime.datetime(1980, 8, 2, 0, 0), '06-01-02-03-04'], ['2', 'marie.dupont@example.fr', 34.0, datetime.datetime(1980, 2, 8, 0, 0), '0601020304'], ['3', 'pierre.martin@exemple.org', 35.0, datetime.datetime(1980, 2, 8, 0, 0), '+33 6 01 02 03 04'], ['4', 'julie.francois@example.com', 35.0, datetime.datetime(1980, 8, 2, 0, 0), '6.01.02.03.04'], ['5', 'emilie.durand@example.com', 35.0, datetime.datetime(1980, 2, 8, 0, 0), '0033 6 01 02 03 04']]\n"
     ]
    }
   ],
   "source": [
    "# cleaning dates\n",
    "\n",
    "for user in users_list:\n",
    "    user[3] = parser.parse(user[3], parserinfo, dayfirst=True, )\n",
    "\n",
    "print(users_list,)"
   ]
  },
  {
   "cell_type": "code",
   "execution_count": null,
   "id": "ded7e356",
   "metadata": {},
   "outputs": [],
   "source": [
    "# cleaning phone\n",
    "def phone_cleaner(phone):\n",
    "    phone = phone.sub(r\"\")\n",
    "\n",
    "for user in users_list:\n",
    "    if re.search(phone_pattern, user[4]) != user[4]:\n",
    "        user[4] = phone_cleaner(user[4])"
   ]
  }
 ],
 "metadata": {
  "kernelspec": {
   "display_name": "Python 3",
   "language": "python",
   "name": "python3"
  },
  "language_info": {
   "codemirror_mode": {
    "name": "ipython",
    "version": 3
   },
   "file_extension": ".py",
   "mimetype": "text/x-python",
   "name": "python",
   "nbconvert_exporter": "python",
   "pygments_lexer": "ipython3",
   "version": "3.13.5"
  }
 },
 "nbformat": 4,
 "nbformat_minor": 5
}
